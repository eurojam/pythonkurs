{
 "cells": [
  {
   "cell_type": "markdown",
   "metadata": {
    "raw_mimetype": "text/markdown",
    "slideshow": {
     "slide_type": "slide"
    }
   },
   "source": [
    "# XML\n",
    "\n",
    "Die Extensible Markup Language, abgekürzt XML, ist eine Auszeichnungssprache zur Darstellung hierarchisch strukturierter Daten im Format einer Textdatei, die sowohl von Menschen als auch von Maschinen lesbar ist. "
   ]
  },
  {
   "cell_type": "raw",
   "metadata": {
    "scrolled": true
   },
   "source": [
    "<?xml version=\"1.0\"?>\n",
    "<bookstore>\n",
    "<book lang=\"en\">\n",
    "\t<title>The Language Instinct: How the Mind Creates Language (P.S.)</title>\n",
    "\t<author>Steven Pinker</author>\n",
    "\t<price>17.50</price>\n",
    "</book>\n",
    "<book lang=\"en\">\n",
    "\t<title>The Black Swan: The Impact of the Highly Improbable</title>\n",
    "\t<author>Nassim Nicholas Taleb</author>\n",
    "\t<price>18.10</price>\n",
    "</book>\n",
    "<book lang=\"fr\">\n",
    "\t<title>L'Etranger</title>\n",
    "\t<author>Albert Camus</author>\n",
    "\t<price>16.10</price>\n",
    "</book>\n",
    "</bookstore>"
   ]
  },
  {
   "cell_type": "markdown",
   "metadata": {},
   "source": [
    "#### XLM mit Python parsen mittels XML Sax:"
   ]
  },
  {
   "cell_type": "code",
   "execution_count": null,
   "metadata": {},
   "outputs": [],
   "source": [
    "# -*- coding: utf-8 -*-\n",
    "from xml.sax import make_parser, handler\n",
    "\n",
    "class BuecherHandler(handler.ContentHandler):\n",
    "\n",
    "    def __init__(self):\n",
    "        self.tags = set()\n",
    "\n",
    "    def startElement(self, name, attrs):\n",
    "        self.tags.add(name)\n",
    "\n",
    "    def getTags(self):\n",
    "        return self.tags\n",
    "\n",
    "parser = make_parser()\n",
    "b = BuecherHandler()\n",
    "parser.setContentHandler(b)\n",
    "parser.parse(\"data/books.xml\")\n",
    "print(b.getTags())"
   ]
  },
  {
   "cell_type": "code",
   "execution_count": null,
   "metadata": {},
   "outputs": [],
   "source": [
    "# -*- coding: utf-8 -*-\n",
    "from xml.sax import make_parser, handler\n",
    "class BuecherHandler(handler.ContentHandler):\n",
    "\n",
    "    def __init__(self):\n",
    "        self.authors = set()\n",
    "        self.titles = set()\n",
    "        self.current_content = \"\"\n",
    "\n",
    "    def startElement(self, name, attrs):\n",
    "        self.current_content = \"\"\n",
    "\n",
    "    def characters(self, content):\n",
    "        self.current_content += content.strip()\n",
    "\n",
    "    def endElement(self, name):\n",
    "        if name == \"title\":\n",
    "            self.titles.add(self.current_content)\n",
    "        elif name == \"author\":\n",
    "            self.authors.add(self.current_content)\n",
    "\n",
    "    def getTitles(self):\n",
    "        return self.titles\n",
    "\n",
    "    def getAuthors(self):\n",
    "        return self.authors\n",
    "parser = make_parser()\n",
    "b = BuecherHandler()\n",
    "parser.setContentHandler(b)\n",
    "parser.parse(\"data/books.xml\")\n",
    "print(\"Authors: \");print(b.getAuthors())\n",
    "print(\"Titles:\");print(b.getTitles())"
   ]
  },
  {
   "cell_type": "code",
   "execution_count": null,
   "metadata": {},
   "outputs": [],
   "source": []
  }
 ],
 "metadata": {
  "kernelspec": {
   "display_name": "Python 3",
   "language": "python",
   "name": "python3"
  },
  "language_info": {
   "codemirror_mode": {
    "name": "ipython",
    "version": 3
   },
   "file_extension": ".py",
   "mimetype": "text/x-python",
   "name": "python",
   "nbconvert_exporter": "python",
   "pygments_lexer": "ipython3",
   "version": "3.7.1"
  }
 },
 "nbformat": 4,
 "nbformat_minor": 2
}

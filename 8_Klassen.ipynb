{
 "cells": [
  {
   "cell_type": "markdown",
   "metadata": {
    "raw_mimetype": "text/markdown",
    "slideshow": {
     "slide_type": "slide"
    }
   },
   "source": [
    "# Klassen"
   ]
  },
  {
   "cell_type": "markdown",
   "metadata": {},
   "source": [
    "Python unterstützt auch die objektorientierte Programmierung. Es können Klassen definiert werden, die Attribute und Methoden kapseln. Durch die gemeinsame Definition von Attributen und Methoden innerhalb des Namensraums einer Klasse wird Modularisierung und Zugriffskontrolle erreicht. Da die Klassenarchitektur möglichst an die reale Welt angepasst sein sollte (d.h. was in der realen Welt zusammengehört, sollte auch innerhalb einer Klasse modelliert werden) wird die Verständlichkeit des Codes gegenüber anderen Programmieransätzen wie z.B. der prozeduralen Programmierung deutlich verbessert. Wie in anderen Programmiersprachen, definieren auch in Python Klassen nur einen abstrakten Bauplan. Konkrete Realisierungen von Klassen werden Objekte, oder Instanzen genannt."
   ]
  },
  {
   "cell_type": "code",
   "execution_count": null,
   "metadata": {
    "scrolled": true
   },
   "outputs": [],
   "source": [
    "#%%file Employee.py ... falls die Klasse in eine Datei geschrieben werden soll\n",
    "\n",
    "class Employee:\n",
    "   \"\"\"Common base class for all employees\"\"\"\n",
    "   empCount = 0\n",
    "\n",
    "   def __init__(self, name, salary): #Eigenschaft\n",
    "      self.name = name\n",
    "      self.salary = salary\n",
    "      Employee.empCount += 1\n",
    "\n",
    "   def displayCount(self): #Methode\n",
    "     print (\"Total Employee %d\" % Employee.empCount)\n",
    "\n",
    "   def displayEmployee(self):\n",
    "      print (\"Name : \", self.name,  \", Salary: \", self.salary)\n",
    "\n",
    "def main():\n",
    "#unser Hauptprogramm zum Testen der Klasse Employee\n",
    "#Eine Instanz der Klasse erzeugen\n",
    "    emp1 = Employee(\"Zara\", 2000)\n",
    "    #Eine zweite Instanz\n",
    "    emp2 = Employee(\"Manni\", 5000)\n",
    "    emp1.displayEmployee()\t\n",
    "    emp2.displayEmployee()\n",
    "    print (\"Anzahl Angestellte %d\" % Employee.empCount)\n",
    "\n",
    "if __name__ == \"__main__\":\n",
    "    main()"
   ]
  },
  {
   "cell_type": "markdown",
   "metadata": {},
   "source": [
    " <font color=\"red\">Fügen Sie weitere Eigenschaften (auch optionale) und Methoden zu der Klasse „Employee“ hinzu.</font> "
   ]
  },
  {
   "cell_type": "markdown",
   "metadata": {},
   "source": [
    "Im folgenden importieren wir die Klasse Employee in ein neues Programm und testen einige Eigenschaften von Klassen."
   ]
  },
  {
   "cell_type": "code",
   "execution_count": null,
   "metadata": {},
   "outputs": [],
   "source": [
    "#Klasse importieren\n",
    "from Employee import Employee\n",
    "#Instanzen erzeugen\n",
    "emp1 = Employee(\"Stefan\", 4000)\n",
    "emp2 = Employee(\"Chef Manni\", 5000)\n",
    "emp1.age = 53  # Ein Attribute hinzufügen\n",
    "emp1.age = 54 # Ein Attribut verändern\n",
    "del emp1.age  # Löschen eines Attributes\n",
    "emp2.age = 53  # Ein Attribute hinzufügen\n",
    "print (hasattr(emp2, 'age'))   # Ergibt TRUE wenn age existiert\n",
    "print (getattr(emp2, 'age'))    # Liefert Wert des Attributs\n",
    "setattr(emp2, 'age', 8) # Setzt den Wert des Attributs\n",
    "delattr(emp2, 'age')    #Löscht das Attribut'\n",
    "#Eingebaute Klassen-Attribute\n",
    "print (\"Employee.__doc__:\", Employee.__doc__) #Beschreibung\n",
    "print (\"Employee.__name__:\", Employee.__name__) \n",
    "print (\"Employee.__module__:\", Employee.__module__) #Modulname Definition\n",
    "print (\"Employee.__bases__:\", Employee.__bases__) #Abgeleitet aus Basisklassen\n",
    "print (\"Employee.__dict__:\", Employee.__dict__) #Namespace Klassendefinition"
   ]
  },
  {
   "cell_type": "markdown",
   "metadata": {},
   "source": [
    "Python kennt das Prinzip der **Vererbung**: Klassen können Funktionalität und Variablen von anderen Klassen erben"
   ]
  },
  {
   "cell_type": "code",
   "execution_count": null,
   "metadata": {},
   "outputs": [],
   "source": [
    "#Klasse importieren\n",
    "from Employee import Employee\n",
    "\n",
    "class Short_employee(Employee):\n",
    "    ###Klasse Minijoober, abgeleitet aus Employee###\n",
    "    def __init__(self, name, frist=10):\n",
    "        self.name = name\n",
    "        self.salary = 450\n",
    "        self.frist = frist #Befristung in Tagen\n",
    "\n",
    "short1 = Short_employee(\"Hubert\", 20)\n",
    "short1.displayEmployee()"
   ]
  },
  {
   "cell_type": "markdown",
   "metadata": {},
   "source": [
    " <font color=\"red\">Erstellen Sie eine Klasse Punkt(x,y) mit der Methode Abstand(Punkt). Leiten Sie von der Klasse Punkt den 3D-Punkt (x,y,z) ab</font> "
   ]
  }
 ],
 "metadata": {
  "kernelspec": {
   "display_name": "Python 3",
   "language": "python",
   "name": "python3"
  },
  "language_info": {
   "codemirror_mode": {
    "name": "ipython",
    "version": 3
   },
   "file_extension": ".py",
   "mimetype": "text/x-python",
   "name": "python",
   "nbconvert_exporter": "python",
   "pygments_lexer": "ipython3",
   "version": "3.7.1"
  }
 },
 "nbformat": 4,
 "nbformat_minor": 2
}

{
 "cells": [
  {
   "cell_type": "markdown",
   "metadata": {},
   "source": [
    "### Geopandas: Save multiple Shapefiles\n",
    "One really useful function that can be used in Pandas/Geopandas is .groupby(). Group by function is useful to group data based on values on selected column(s)."
   ]
  },
  {
   "cell_type": "code",
   "execution_count": null,
   "metadata": {},
   "outputs": [],
   "source": [
    "# Import necessary modules first\n",
    "import geopandas as gp\n",
    "# Set filepath (fix path relative to yours)\n",
    "fp = \"data/DAMSELFISH_distributions.shp\"\n",
    "# Read file using gpd.read_file()\n",
    "data = gp.read_file(fp)"
   ]
  },
  {
   "cell_type": "markdown",
   "metadata": {},
   "source": [
    "Let’s group individual fishes in DAMSELFISH_distribution.shp and export the species to individual Shapefiles."
   ]
  },
  {
   "cell_type": "code",
   "execution_count": null,
   "metadata": {},
   "outputs": [],
   "source": [
    "# Group the data by column 'BINOMIAL'\n",
    "grouped = data.groupby('BINOMIAL')\n",
    "# Let's see what we got\n",
    "grouped"
   ]
  },
  {
   "cell_type": "markdown",
   "metadata": {},
   "source": [
    "groupby -function gives us an object called DataFrameGroupBy which is similar to list of keys and values (in a dictionary) that we can iterate over."
   ]
  },
  {
   "cell_type": "code",
   "execution_count": null,
   "metadata": {},
   "outputs": [],
   "source": [
    "for key, values in grouped:\n",
    "   individual_fish = values\n",
    "individual_fish"
   ]
  },
  {
   "cell_type": "markdown",
   "metadata": {},
   "source": [
    "From here we can see that an individual_fish variable now contains all the rows that belongs to a fish called Teixeirichthys jordani. Notice that the index numbers refer to the row numbers in the original data -GeoDataFrame.\n",
    "\n",
    "* Let’s check the datatype of the grouped object and what does the key variable contain\n"
   ]
  },
  {
   "cell_type": "code",
   "execution_count": null,
   "metadata": {},
   "outputs": [],
   "source": [
    "type(individual_fish)\n",
    "print(key)\n"
   ]
  },
  {
   "cell_type": "markdown",
   "metadata": {},
   "source": [
    "As can be seen from the example above, each set of data are now grouped into separate GeoDataFrames that we can export into Shapefiles using the variable key for creating the output filepath names. Here we use a specific string formatting method to produce the output filename using % operator. Let’s now export those species into individual Shapefiles."
   ]
  },
  {
   "cell_type": "code",
   "execution_count": null,
   "metadata": {},
   "outputs": [],
   "source": [
    "import os\n",
    "# Determine outputpath\n",
    "outFolder = \"data\"\n",
    "\n",
    "# Create a new folder called 'Results' (if does not exist) to that folder using os.makedirs() function\n",
    "resultFolder = os.path.join(outFolder, 'Results')\n",
    "if not os.path.exists(resultFolder):\n",
    "    os.makedirs(resultFolder)\n",
    "\n",
    "# Iterate over the\n",
    "for key, values in grouped:\n",
    "    # Format the filename (replace spaces with underscores)\n",
    "    outName = \"%s.shp\" % key.replace(\" \", \"_\")\n",
    "\n",
    "    # Print some information for the user\n",
    "    print(\"Processing: %s\" % key)\n",
    "\n",
    "    # Create an output path\n",
    "    outpath = os.path.join(resultFolder, outName)\n",
    "\n",
    "    # Export the data\n",
    "    values.to_file(outpath)"
   ]
  },
  {
   "cell_type": "markdown",
   "metadata": {},
   "source": [
    "Course materials from: https://automating-gis-processes.github.io/CSC18/index.html"
   ]
  },
  {
   "cell_type": "code",
   "execution_count": null,
   "metadata": {},
   "outputs": [],
   "source": []
  }
 ],
 "metadata": {
  "kernelspec": {
   "display_name": "Python 3",
   "language": "python",
   "name": "python3"
  },
  "language_info": {
   "codemirror_mode": {
    "name": "ipython",
    "version": 3
   },
   "file_extension": ".py",
   "mimetype": "text/x-python",
   "name": "python",
   "nbconvert_exporter": "python",
   "pygments_lexer": "ipython3",
   "version": "3.8.1"
  }
 },
 "nbformat": 4,
 "nbformat_minor": 4
}

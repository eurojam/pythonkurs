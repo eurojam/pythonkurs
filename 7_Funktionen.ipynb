{
 "cells": [
  {
   "cell_type": "markdown",
   "metadata": {
    "raw_mimetype": "text/markdown",
    "slideshow": {
     "slide_type": "slide"
    }
   },
   "source": [
    "# Funktionen"
   ]
  },
  {
   "cell_type": "markdown",
   "metadata": {},
   "source": [
    "Eine Funktion ist eine mit Namen versehene Folge von Anweisungen, die eine gewünschte Verarbeitung von Daten ausführt. Diese Folge von Anweisungen wird in einer Funktionsdefinition festgelegt:"
   ]
  },
  {
   "cell_type": "markdown",
   "metadata": {},
   "source": [
    "Die Syntax für eine Funktionsdefinition ist:\n",
    "\n",
    "**def funktionsname(Parameterliste):**  \n",
    "<div style=\"text-indent:20px;\">Codeblock der Funktion</div>"
   ]
  },
  {
   "cell_type": "markdown",
   "metadata": {},
   "source": [
    "Die Fibonacci-Folge ist die unendliche Folge von natürlichen Zahlen, die (ursprünglich) mit zweimal der Zahl 1 beginnt oder (häufig, in moderner Schreibweise) zusätzlich mit einer führenden Zahl 0 versehen ist. Im Anschluss ergibt jeweils die Summe zweier aufeinanderfolgender Zahlen die unmittelbar danach folgende Zahl.  \n",
    "\n",
    "Die darin enthaltenen Zahlen heißen Fibonacci-Zahlen. Benannt ist die Folge nach Leonardo Fibonacci, der damit im Jahr 1202 das Wachstum einer Kaninchenpopulation beschrieb. Die Folge war aber schon in der Antike sowohl den Griechen als auch den Indern bekannt."
   ]
  },
  {
   "cell_type": "code",
   "execution_count": 1,
   "metadata": {},
   "outputs": [
    {
     "data": {
      "image/jpeg": "[encoded data removed]",
      "text/plain": [
       "<IPython.core.display.Image object>"
      ]
     },
     "execution_count": 1,
     "metadata": {
      "image/jpeg": {
       "width": 400
      }
     },
     "output_type": "execute_result"
    }
   ],
   "source": [
    "from IPython.display import Image\n",
    "Image(filename=\"img/Fibonacci_sequence.jpg\", width=400)"
   ]
  },
  {
   "cell_type": "markdown",
   "metadata": {},
   "source": [
    "Die folgende Funktion gibt die Fibonacci-Folge bis n aus:"
   ]
  },
  {
   "cell_type": "code",
   "execution_count": null,
   "metadata": {},
   "outputs": [],
   "source": [
    "def fib(n):\n",
    "    \"\"\"Print the Fibonacci series up to n.\"\"\"\n",
    "    a, b = 0, 1\n",
    "    s = '' #Ergebnisstring\n",
    "    while a < n:\n",
    "        s += str(a)\n",
    "        s += ' '\n",
    "        a, b = b, a+b\n",
    "        print (s)\n",
    "        \n",
    "print (fib.__doc__)\n",
    "fib(5000)"
   ]
  },
  {
   "cell_type": "markdown",
   "metadata": {},
   "source": [
    "Die selbe Funktion mit anderer Syntax:"
   ]
  },
  {
   "cell_type": "code",
   "execution_count": null,
   "metadata": {},
   "outputs": [],
   "source": [
    "def fib2(n):\n",
    "    \"\"\"Return a list containing the Fibonacci series up to n.\"\"\"\n",
    "    result = list()\n",
    "    a, b = 0, 1\n",
    "    while a < n:\n",
    "        result.append(a)    \n",
    "        a, b = b, a + b\n",
    "    return result\n",
    "\n",
    "fib5000 = fib2(5000)\n",
    "print (fib5000)"
   ]
  },
  {
   "cell_type": "markdown",
   "metadata": {},
   "source": [
    " <font color=\"red\">Beschreiben Sie die Unterschiede der beiden Funktionen **fib()** und **fib2()**.</font> "
   ]
  },
  {
   "cell_type": "markdown",
   "metadata": {},
   "source": [
    " <font color=\"red\">Schreiben Sie eine Funktion **fib3()** basierend **fib2()**, welche den jeweiligen Quotienten n+1/n aus den Fibonacci-Zahlen bildet und sehen Sie sich das Ergebnis an - was fällt bei der Reihe der Quotienten auf? Geben Sie die Zahl in Google ein...</font> "
   ]
  },
  {
   "cell_type": "markdown",
   "metadata": {},
   "source": [
    "Funktionen können mit **import** aus anderen Modulen geladen werden:"
   ]
  },
  {
   "cell_type": "code",
   "execution_count": null,
   "metadata": {
    "scrolled": true
   },
   "outputs": [],
   "source": [
    "%%file testfunktionen.py\n",
    "def hallo():\n",
    "    print (\"hallo welt\")"
   ]
  },
  {
   "cell_type": "code",
   "execution_count": null,
   "metadata": {},
   "outputs": [],
   "source": [
    "from testfunktionen import hallo\n",
    "hallo()"
   ]
  },
  {
   "cell_type": "markdown",
   "metadata": {},
   "source": [
    "**Vorbelegung von Argumenten (Default-Values)**"
   ]
  },
  {
   "cell_type": "code",
   "execution_count": null,
   "metadata": {},
   "outputs": [],
   "source": [
    "# Funktion mit vorbelegten Argumenten\n",
    "import codecs\n",
    "def ask_ok(prompt, retries=4, complaint='Bitte Ja oder Nein!'):\n",
    "    print (prompt)\n",
    "    while True:    \n",
    "        ok = input('>')\n",
    "        if ok in ('j', 'J', 'ja', 'Ja'): \n",
    "            return True\n",
    "        if ok in ('n', 'N', 'ne', 'Ne', 'Nein'): \n",
    "            return False\n",
    "        retries = retries - 1\n",
    "        if retries < 0:\n",
    "            raise IOError('Benutzer abgelehnt!')\n",
    "        print(complaint)\n",
    "\n",
    "#Aufruf mit einem Argument\t   \n",
    "ask_ok(\"Willst du wirklich aufhören?\")\t   \n",
    "#Aufruf mit zwei oder drei Argumenten\t\n",
    "ask_ok(\"Willst du die Datei überschreiben?\", 2)\n",
    "ask_ok(\"Willst du die Datei überschreiben?\", 2, \"Komm schon, nur Ja oder Nein\")"
   ]
  },
  {
   "cell_type": "markdown",
   "metadata": {},
   "source": [
    " <font color=\"red\">Welche neuen Befehle erkennen Sie?</font> "
   ]
  }
 ],
 "metadata": {
  "kernelspec": {
   "display_name": "Python 3",
   "language": "python",
   "name": "python3"
  },
  "language_info": {
   "codemirror_mode": {
    "name": "ipython",
    "version": 3
   },
   "file_extension": ".py",
   "mimetype": "text/x-python",
   "name": "python",
   "nbconvert_exporter": "python",
   "pygments_lexer": "ipython3",
   "version": "3.7.1"
  }
 },
 "nbformat": 4,
 "nbformat_minor": 2
}

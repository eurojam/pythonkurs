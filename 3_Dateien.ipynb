{
 "cells": [
  {
   "cell_type": "markdown",
   "metadata": {},
   "source": [
    "# Dateien\n",
    "\n",
    "**Öffnen und Einlesen einer Datei**"
   ]
  },
  {
   "cell_type": "code",
   "execution_count": null,
   "metadata": {},
   "outputs": [],
   "source": [
    "filename='data/text1.txt'\n",
    "with open(filename, 'r') as f:\n",
    "    txt = f.read()\n",
    "\n",
    "print (\"Datei %r eingelesen\" % filename)\n",
    "print (txt)\n",
    "#hier sollten nun die Anzahl der Buchstaben \n",
    "#ohne space und Woerter ausgeben werden\n",
    "#wie könnte das gehen?\n",
    "\n",
    "w = len(txt)\n",
    "b = len(txt.split())\n",
    "print ('Wörter: {0} und Buchstaben: {1}'.format(w,b))"
   ]
  },
  {
   "cell_type": "markdown",
   "metadata": {},
   "source": [
    "<font color=\"red\">Erweitern Sie das obige Beispiel so, dass die Anzahl der Wörter und Buchstaben aus der Textdatei gezählt und ausgegeben werden.</font>\n",
    "\n",
    "**Schreiben einer Datei**"
   ]
  },
  {
   "cell_type": "code",
   "execution_count": 4,
   "metadata": {},
   "outputs": [],
   "source": [
    "#Basissyntax öffnen\n",
    "file = open('neu.txt', 'w') \n",
    "#Schreiben\n",
    "file.write( \"Python ist super!!!\\nYep, so ist es!!\\n\")\n",
    "file.close()\n",
    "#Mehrere Zeilen Schreiben\n",
    "file = open('neu.txt', 'w') \n",
    "lines_of_text = [\"Python ist super!!!\", \"und so einfach zu lernen\", \"das stimmt\"] \n",
    "file.writelines(lines_of_text) \n",
    "file.close() \n",
    "# auch mit with\n",
    "with open('neu.txt', 'w') as file:  \n",
    "    file.write( \"Python ist super!!!\")\n",
    "\n",
    "#Dateien umbenennen, löschen\n",
    "import os #Modul operating system\n",
    "os.rename(\"neu.txt\", \"neu2.txt\" )\n",
    "os.remove(\"neu2.txt\")\n",
    "os.mkdir(\"testverzeichnis\") #Verzeichnis anlegen"
   ]
  },
  {
   "cell_type": "code",
   "execution_count": null,
   "metadata": {},
   "outputs": [],
   "source": []
  }
 ],
 "metadata": {
  "kernelspec": {
   "display_name": "Python 3",
   "language": "python",
   "name": "python3"
  },
  "language_info": {
   "codemirror_mode": {
    "name": "ipython",
    "version": 3
   },
   "file_extension": ".py",
   "mimetype": "text/x-python",
   "name": "python",
   "nbconvert_exporter": "python",
   "pygments_lexer": "ipython3",
   "version": "3.7.1"
  }
 },
 "nbformat": 4,
 "nbformat_minor": 2
}

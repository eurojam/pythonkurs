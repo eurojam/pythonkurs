{
 "cells": [
  {
   "cell_type": "markdown",
   "metadata": {
    "raw_mimetype": "text/markdown",
    "slideshow": {
     "slide_type": "slide"
    }
   },
   "source": [
    "# Strukturen"
   ]
  },
  {
   "cell_type": "markdown",
   "metadata": {},
   "source": [
    "**while Statement**"
   ]
  },
  {
   "cell_type": "code",
   "execution_count": null,
   "metadata": {},
   "outputs": [],
   "source": [
    "# Fibonacci-Folge:\n",
    "# Die Summe der letzten beiden Elemente ergibt das naechste\n",
    "a, b = 0, 1\n",
    "while b < 1000000000:\n",
    "    #print(b)\n",
    "    print(a)\n",
    "    a, b = b, a+b"
   ]
  },
  {
   "cell_type": "markdown",
   "metadata": {},
   "source": [
    "<font color=\"red\">Welche neuen Befehle und Strukturen erkennen Sie im obigen Beispielen?</font>"
   ]
  },
  {
   "cell_type": "code",
   "execution_count": null,
   "metadata": {},
   "outputs": [],
   "source": [
    "import socket\n",
    "\n",
    "HOST, PORT = '', 8889\n",
    "\n",
    "listen_socket = socket.socket(socket.AF_INET, socket.SOCK_STREAM)\n",
    "listen_socket.setsockopt(socket.SOL_SOCKET, socket.SO_REUSEADDR, 1)\n",
    "listen_socket.bind((HOST, PORT))\n",
    "listen_socket.listen(1)\n",
    "print ('Serving HTTP on port %s ...' % PORT)\n",
    "while True:\n",
    "    client_connection, client_address = listen_socket.accept()\n",
    "    request = client_connection.recv(1024)\n",
    "    print (request)\n",
    "\n",
    "    http_response = \"\"\"\\\n",
    "HTTP/1.1 200 OK\n",
    "\n",
    "Hello, World!\n",
    "\"\"\".encode()\n",
    "    client_connection.sendall(http_response)\n",
    "    client_connection.close()"
   ]
  },
  {
   "cell_type": "markdown",
   "metadata": {},
   "source": [
    "Ein einfacher Webserver: Starten Sie das Programm und rufen die Webseite auf.\n",
    "Beispiel für Endlosschleife (aus https://ruslanspivak.com/lsbaws-part1/)"
   ]
  },
  {
   "cell_type": "markdown",
   "metadata": {},
   "source": [
    "**if elif else Statement**"
   ]
  },
  {
   "cell_type": "code",
   "execution_count": null,
   "metadata": {},
   "outputs": [],
   "source": [
    "x = int(input(\"Please enter an integer: \"))\n",
    "if x < 0:\n",
    "    x = 0\n",
    "    print('Negative changed to zero')\n",
    "elif x == 0:\n",
    "    print('Zero')\n",
    "elif x == 1:\n",
    "    print('Single')\n",
    "else:\n",
    "    print('More')"
   ]
  },
  {
   "cell_type": "code",
   "execution_count": null,
   "metadata": {},
   "outputs": [],
   "source": [
    "a = 88\n",
    "b = int(input('Enter an integer:'))\n",
    "if (a > b):\n",
    "   max=a\n",
    "else:\n",
    "   max=b\n",
    "print (max)\n",
    "#verkürzte Schreibweise\n",
    "#max = a if (a > b) else b\n",
    "#print (max)"
   ]
  },
  {
   "cell_type": "markdown",
   "metadata": {},
   "source": [
    "<font color=\"red\">Welche neuen Befehle und Strukturen erkennen Sie in diesen Beispielen? Achten Sie auf die print Syntax...was ist anders zu den letzten Beispielen mit print?</font>"
   ]
  },
  {
   "cell_type": "markdown",
   "metadata": {},
   "source": [
    "**for Statement**"
   ]
  },
  {
   "cell_type": "code",
   "execution_count": null,
   "metadata": {},
   "outputs": [],
   "source": [
    "# Schleife mit Liste\n",
    "meine_liste = ['Heute', 'ist', 'Python', 'Schulung']\n",
    "m = 0\n",
    "for element in meine_liste:\n",
    "    m = m + len(element)\n",
    "    print (element)\n",
    "    print (m)    "
   ]
  },
  {
   "cell_type": "code",
   "execution_count": null,
   "metadata": {},
   "outputs": [],
   "source": [
    "#Schleife mit Continue\n",
    "for num in range(2, 10):\n",
    "    if num % 2 == 0:\n",
    "        print (\"Eine gerade Nummer\", num)\n",
    "        continue\n",
    "    print (\"Eine ungerade Nummer\", num)"
   ]
  },
  {
   "cell_type": "code",
   "execution_count": null,
   "metadata": {},
   "outputs": [],
   "source": [
    "# Schleife mit Range und break\n",
    "# Primzahlen finden\n",
    "for n in range(2, 20):\n",
    "    for x in range(2, n):\n",
    "        if n % x == 0:\n",
    "            print (n, 'gleich', x, '*', n//x)\n",
    "            break\n",
    "    else:\n",
    "        # Schleife wurde durchlaufen, \n",
    "        # ohne dass ein Faktor gefunden wurde\n",
    "        print (n, 'ist eine Primzahl')"
   ]
  },
  {
   "cell_type": "markdown",
   "metadata": {},
   "source": [
    "**for** kann mit **else** kombiniert werden und **continue** führt zum Fortführen mit der nächsten Iteration, **break** führt zum Abbruch der Schleife."
   ]
  }
 ],
 "metadata": {
  "kernelspec": {
   "display_name": "Python 3",
   "language": "python",
   "name": "python3"
  },
  "language_info": {
   "codemirror_mode": {
    "name": "ipython",
    "version": 3
   },
   "file_extension": ".py",
   "mimetype": "text/x-python",
   "name": "python",
   "nbconvert_exporter": "python",
   "pygments_lexer": "ipython3",
   "version": "3.7.1"
  }
 },
 "nbformat": 4,
 "nbformat_minor": 2
}

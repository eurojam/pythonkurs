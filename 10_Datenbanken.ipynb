{
 "cells": [
  {
   "cell_type": "markdown",
   "metadata": {
    "raw_mimetype": "text/markdown",
    "slideshow": {
     "slide_type": "slide"
    }
   },
   "source": [
    "# Datenbanken"
   ]
  },
  {
   "cell_type": "markdown",
   "metadata": {},
   "source": [
    "Python kann mit verschiedenen Datenbanken umgehen: PostgreSQL, MariaDB, Microstft SQLServe und Oracle. Als lokale Datenbank steht z.B. auch SQLite zur Verfügung.  \n",
    "Für die Verbindungsaufnahme benötigt Python ein passendes Datenbankmodul, das für alle gängigen Datenbanken verfügbar ist:\n",
    "\n",
    "- PostgreSQL: psycopg\n",
    "- mariaDB: mysql\n",
    "- SQLite: sqlite3  \n",
    "\n",
    "Das passende Modul wird importiert und dessen Methode connect() aufgerufen. Diese liefert ein Connection-Objekt zurück, das für die weiteren Datenbankzugriffe verwendet wird, die dann für alle Datenbanken gleich ist."
   ]
  },
  {
   "cell_type": "code",
   "execution_count": null,
   "metadata": {
    "scrolled": true
   },
   "outputs": [],
   "source": [
    "import sqlite3\n",
    "connection = sqlite3.connect(\"company.db\")\n",
    "cursor = connection.cursor()\n",
    "cursor.execute(\"\"\"drop table if exists employee;\"\"\")\n",
    "\n",
    "sql_command = \"\"\"\n",
    "CREATE TABLE employee ( \n",
    "staff_number INTEGER PRIMARY KEY, \n",
    "fname VARCHAR(20), \n",
    "lname VARCHAR(30), \n",
    "gender CHAR(1), \n",
    "joining DATE,\n",
    "birth_date DATE);\"\"\"\n",
    "cursor.execute(sql_command)\n",
    "\n",
    "sql_command = \"\"\"INSERT INTO employee \n",
    "    (staff_number, fname, lname, gender, birth_date)\n",
    "    VALUES (NULL, \"William\", \"Shakespeare\", \"m\", \"1961-10-25\");\"\"\"\n",
    "cursor.execute(sql_command)\n",
    "\n",
    "sql_command = \"\"\"INSERT INTO employee \n",
    "    (staff_number, fname, lname, gender, birth_date)\n",
    "    VALUES (NULL, \"Frank\", \"Schiller\", \"m\", \"1955-08-17\");\"\"\"\n",
    "cursor.execute(sql_command)\n",
    "# Nicht vergessen die Aktionen zu commiten!\n",
    "connection.commit()\n",
    "connection.close()"
   ]
  },
  {
   "cell_type": "markdown",
   "metadata": {},
   "source": [
    "Der folgende Code führt ein Datenbank-INSERT aus. Es werden gleich mehrere Datensätze über eine Liste eingefügt.  \n",
    " <font color=\"red\">Schauen Sie sich den Code an, welche neuen Befehle erkennen Sie? Verändern Sie den Code so, dass Fehler ausgelöst werden.</font> "
   ]
  },
  {
   "cell_type": "code",
   "execution_count": null,
   "metadata": {},
   "outputs": [],
   "source": [
    "import sqlite3\n",
    "import sys\n",
    "\n",
    "newEmployees = (\n",
    "    (\"Heinrich\", \"Goethe\", \"m\", \"1967-11-25\"),\n",
    "    (\"Klaus\", \"Kleist\", \"m\", \"1978-09-20\"),\n",
    "    (\"Claudia\", \"Kleiner\", \"f\", \"1969-12-31\"))\n",
    "\n",
    "sql_command = \"\"\"INSERT INTO employee \n",
    "    (fname, lname, gender, birth_date)\n",
    "    VALUES (?,?,?,?);\"\"\"\n",
    "\n",
    "try:\n",
    "    connection = sqlite3.connect(\"company.db\")\n",
    "    cursor = connection.cursor()\n",
    "    cursor.executemany(sql_command, newEmployees)\n",
    "\t\n",
    "except sqlite3.Error as er:\n",
    "\n",
    "    if connection:\n",
    "        connection.rollback()\n",
    "        connection.close()\n",
    "\n",
    "    print (\"Error %s:\" % er.args[0])\n",
    "    sys.exit(1)\t\n",
    "\n",
    "connection.commit()\n",
    "connection.close()"
   ]
  },
  {
   "cell_type": "markdown",
   "metadata": {},
   "source": [
    "Die beiden folgenden Codebeispiele führen nun ein SELECT auf die Datenbank durch.  \n",
    "<font color=\"red\">Schauen Sie sich den Code an, worin bestehen die Unterschiede der beiden Scripte?</font> "
   ]
  },
  {
   "cell_type": "code",
   "execution_count": null,
   "metadata": {},
   "outputs": [],
   "source": [
    "import sqlite3\n",
    "connection = sqlite3.connect(\"company.db\")\n",
    "cursor = connection.cursor()\n",
    "cursor.execute(\"SELECT * FROM employee\")\n",
    "rows = cursor.fetchall()\n",
    "\n",
    "for row in rows:\n",
    "   print (row)"
   ]
  },
  {
   "cell_type": "code",
   "execution_count": null,
   "metadata": {},
   "outputs": [],
   "source": [
    "import sqlite3 as lite\n",
    "con = lite.connect('company.db')    \n",
    "\n",
    "with con:\n",
    "    \n",
    "    con.row_factory = lite.Row\n",
    "       \n",
    "    cur = con.cursor() \n",
    "    cur.execute(\"SELECT * FROM employee\")\n",
    "\n",
    "    rows = cur.fetchall()\n",
    "    for row in rows:\n",
    "        print (\"%s %s %s\" % \n",
    "\t\t    (row[\"staff_number\"], row[\"fname\"], row[\"lname\"]))"
   ]
  }
 ],
 "metadata": {
  "kernelspec": {
   "display_name": "Python 3",
   "language": "python",
   "name": "python3"
  },
  "language_info": {
   "codemirror_mode": {
    "name": "ipython",
    "version": 3
   },
   "file_extension": ".py",
   "mimetype": "text/x-python",
   "name": "python",
   "nbconvert_exporter": "python",
   "pygments_lexer": "ipython3",
   "version": "3.7.1"
  }
 },
 "nbformat": 4,
 "nbformat_minor": 2
}

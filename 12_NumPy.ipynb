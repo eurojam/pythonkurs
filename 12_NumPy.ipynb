{
 "cells": [
  {
   "cell_type": "markdown",
   "metadata": {
    "raw_mimetype": "text/markdown",
    "slideshow": {
     "slide_type": "slide"
    }
   },
   "source": [
    "# NumPy"
   ]
  },
  {
   "cell_type": "markdown",
   "metadata": {},
   "source": [
    "NumPy steht für Numerical Python und ist eines der bekanntesten Python-Pakete für wissenschaftliches Programmieren. Die zentrale Datenstruktur in NumPy ist das mehrdimensionale Array. Dieses n-dimensionale Array (ndarray) ist eine mächtige Datenstruktur. Die Besonderheit des NumPy-Arrays ist, dass es ein mehrdimensionaler Container für homogene Daten ist. Ein Datentyp gilt also für das gesamte Array, nicht nur für bestimmte Zeilen oder Spalten!"
   ]
  },
  {
   "cell_type": "code",
   "execution_count": null,
   "metadata": {},
   "outputs": [],
   "source": [
    "import numpy as np\n",
    "dataList = [[2, 9],[3, 4, 7, 10, 2],[0, 9, 3, 2, 3]] # dies ist eine Liste (Standard-Python)\n",
    "array = np.array(dataList) #in ein numpy array überführen\n",
    "print (array)\n",
    "print (array.shape) #Dimension bestimmen"
   ]
  },
  {
   "cell_type": "code",
   "execution_count": null,
   "metadata": {
    "scrolled": true
   },
   "outputs": [],
   "source": [
    "dataList2 = [[1,2,3],[4,5,6],[7,8,9],[10,11,12]] \n",
    "array2 = np.array(dataList2)"
   ]
  },
  {
   "cell_type": "markdown",
   "metadata": {},
   "source": [
    " <font color=\"red\">Was iste der Unterschied zwischen array und array2 und welche Dimension hat array2?</font> "
   ]
  },
  {
   "cell_type": "markdown",
   "metadata": {},
   "source": [
    "**Schnelle Erzeugung von Arrays**  \n",
    "Dies geht sehr einfach mit **np.zeros()**, **np.ones()** oder **np.rand()**"
   ]
  },
  {
   "cell_type": "code",
   "execution_count": null,
   "metadata": {},
   "outputs": [],
   "source": [
    "a1 = np.ones((5,5))\n",
    "a2 = np.ones((5,5))\n",
    "a3 = np.ones((5,5))\n",
    "\n",
    "a1 + a2 + a3"
   ]
  },
  {
   "cell_type": "markdown",
   "metadata": {},
   "source": [
    "**Weitere Möglichkeiten zum Erzeugen von NumPy Arrays**\n",
    "mit **arange** und **linspace**.  \n",
    "arange erzeugt gleichmäßig verteilte Werte innerhalb eines vorgegebenen Intervalles \n",
    "*arange([start,] stop[, step], [, dtype=None])*"
   ]
  },
  {
   "cell_type": "code",
   "execution_count": null,
   "metadata": {},
   "outputs": [],
   "source": [
    "import numpy as np\n",
    "a = np.arange(1, 7)\n",
    "print (a)"
   ]
  },
  {
   "cell_type": "markdown",
   "metadata": {},
   "source": [
    "linspace erzeugt ein array aus einer bestimmten Anzahl gleichmäßig verteilten Werte  \n",
    "*linspace(start, stop, num=50, endpoint=True, retstep=False)*"
   ]
  },
  {
   "cell_type": "code",
   "execution_count": null,
   "metadata": {},
   "outputs": [],
   "source": [
    "import numpy as np\n",
    "# 50 Werte (Defaut) zwischen 1 und 7:\n",
    "print(np.linspace(1, 7))\n",
    "# 7 Werte zwischen 1 und 7:\n",
    "print(np.linspace(1, 8, 7))\n",
    "# jetzt ohne Endpunkt:\n",
    "print(np.linspace(1, 8, 7, endpoint=False))"
   ]
  },
  {
   "cell_type": "markdown",
   "metadata": {},
   "source": [
    "**NumPy ist deutlich schneller als klassische Python Listen oder Arrays:**  \n",
    "dazu erzeugen wir eine große Liste einmal klassisch mit Python und einmal mit NumPy"
   ]
  },
  {
   "cell_type": "code",
   "execution_count": null,
   "metadata": {},
   "outputs": [],
   "source": [
    "import datetime\n",
    "import numpy as np\n",
    "n=5000000\n",
    "#klassisch\n",
    "t1 = datetime.datetime.now()\n",
    "a1 = [i for i in range(0,n)] #Erzeugen eines großen Arrays\n",
    "t2 =  datetime.datetime.now()\n",
    "secs1 = (t2-t1).total_seconds() #timedelta bestimmen\n",
    "print (\"Klassisch\", secs1)\n",
    "\n",
    "t1 = datetime.datetime.now()\n",
    "c = np.arange(0,n)\n",
    "a2 = c.tolist()\n",
    "t2 =  datetime.datetime.now()\n",
    "secs2 = (t2-t1).total_seconds()\n",
    "print (\"Numpy\", secs2)\n",
    "print (\"Faktor\", secs1/secs2)"
   ]
  },
  {
   "cell_type": "markdown",
   "metadata": {},
   "source": [
    "**Indizes und Slicing**  \n",
    "- Indices: Elemente eines arrays kann man über Indizes ansprechen.\n",
    "- Slicing: Mit der n:m:k-Syntax kann man Teilfelder ansprechen. Dabei ist der Startindex n enthalten, der Endindex m ist nicht mehr enthalten und k ist eine mögliche Schrittweite.\n",
    "\n"
   ]
  },
  {
   "cell_type": "code",
   "execution_count": null,
   "metadata": {
    "scrolled": false
   },
   "outputs": [],
   "source": [
    "from IPython.display import Image\n",
    "Image(filename=\"img/numpy_slice.png\", width=400)"
   ]
  },
  {
   "cell_type": "code",
   "execution_count": null,
   "metadata": {},
   "outputs": [],
   "source": [
    "import numpy as np\n",
    "a= np.array([[0,1,2,3,4,5],\n",
    "    [10,11,12,13,14,15],\n",
    "    [20,21,22,23,24,25],\n",
    "    [30,31,32,33,34,35],\n",
    "    [40,41,42,43,44,45],\n",
    "    [50,51,52,53,54,55]])\n",
    "a"
   ]
  },
  {
   "cell_type": "markdown",
   "metadata": {},
   "source": [
    "**Arithmetische Operationen und Funktionen mit Arrays**"
   ]
  },
  {
   "cell_type": "code",
   "execution_count": null,
   "metadata": {},
   "outputs": [],
   "source": [
    "import numpy as np\n",
    "# 2-dimensionales array erzeugen\n",
    "A = np.arange(16).reshape(4,4)\n",
    "print (A)\n",
    "print (A>5) #Vergleichsoperator\n",
    "print (A+10) #Summe\n",
    "# Auch alle üblichen mathematischen Funktionen werden von numpy so \n",
    "# bereitgestellt, dass sie elementweise auf ein Feld wirken \n",
    "B = A+np.ones((4,4))\n",
    "print (np.log10(B))\n",
    "print (B.sum())\n",
    "print (B.max())\n",
    "print (B[:,2].max()) #Maximum der 3. Spalte\n"
   ]
  },
  {
   "cell_type": "markdown",
   "metadata": {},
   "source": [
    "<font color=\"red\">Testen Sie verschiedene Slices und Indizes an der obigen Matrix</font>"
   ]
  },
  {
   "cell_type": "markdown",
   "metadata": {},
   "source": [
    "**Einlesen einer Datei in ein NumPy Array**"
   ]
  },
  {
   "cell_type": "code",
   "execution_count": null,
   "metadata": {},
   "outputs": [],
   "source": [
    "import numpy as np\n",
    "# genfromtxt() automatically generates\n",
    "# an array from the txt file\n",
    "url = 'shape'\n",
    "white_wines = np.genfromtxt(url, delimiter=\";\", skip_header=1)\n",
    "# Anzahl Daten anzeigen\n",
    "print (white_wines.shape)"
   ]
  },
  {
   "cell_type": "markdown",
   "metadata": {},
   "source": [
    "Der o.g. Datensatz enthält Daten zu Weinqualitäten der roten und weißen Varianten des portugiesischen  „Vino Verde“ ( www.vinhoverde.pt).  \n",
    "Daten von *P. Cortez, A. Cerdeira, F. Almeida, T. Matos and J. Reis: Modeling wine preferences by data mining from physicochemical properties.*  \n",
    "Datensatzbeschreibung unter:  \n",
    "http://archive.ics.uci.edu/ml/machine-learning-databases/wine-quality/winequality.names\n",
    "\n",
    "Attribute information:  \n",
    "\n",
    "1 - fixed acidity  \n",
    "2 - volatile acidity  \n",
    "3 - citric acid  \n",
    "4 - residual sugar  \n",
    "5 - chlorides  \n",
    "6 - free sulfur dioxide  \n",
    "7 - total sulfur dioxide  \n",
    "8 - density  \n",
    "9 - pH  \n",
    "10 - sulphates  \n",
    "11 - alcohol  \n",
    "12 - quality (score 0 - 10)  \n",
    "  \n",
    "  \n",
    "<font color=\"red\">Öffnen Sie Sie den Datensatz winequality-white.csv und machen Sie die folgenden Operationen...oder untersuchen die Daten mit eigenen Befehlen...z.B. selektieren Sie alle Qualitätsweine (>7) mit weniger als 12% Alkohol.</font>"
   ]
  },
  {
   "cell_type": "markdown",
   "metadata": {},
   "source": [
    "<font color=\"red\">**Weitere NumPy Aufgaben**  \n",
    "Versuchen Sie die 10 Aufgaben zu lösen:\n",
    "<ol>\n",
    "<li>Erstellen Sie einen Nullvektor der Länge 10</li>\n",
    "<li>Erstellen Sie einen Nullvektor mit dem 5. Wert gleich 1</li>\n",
    "<li>Erstellen Sie einen Vektor mit Werten von 10 bis 49</li>\n",
    "<li>Kehren Sie den Vektor aus 3) um – erster Wert wird letzter usw.</li>\n",
    "<li>Wie bekommt man die Dokumentation zu „reshape“ über die Kommandozeile?</li> \n",
    "<li>Erstellen Sie eine 3x3 Matrix mit Werten von 0 bis 8</li>\n",
    "<li>Erstellen Sie ein 3x3x3 Array mit Zufallswerten</li>\n",
    "<li>Erstellen Sie ein 10x10 Array aus Zufallswerten und bestimmen Sie min() und max()</li>\n",
    "<li>Erstellen Sie ein 2D Array mit Einsen am Rand und Nullen innen</li>\n",
    "<li>Erstellen Sie ein 8x8 Array mit Schachbrettmuster</li>\n",
    "</ol></font>"
   ]
  }
 ],
 "metadata": {
  "kernelspec": {
   "display_name": "Python 3",
   "language": "python",
   "name": "python3"
  },
  "language_info": {
   "codemirror_mode": {
    "name": "ipython",
    "version": 3
   },
   "file_extension": ".py",
   "mimetype": "text/x-python",
   "name": "python",
   "nbconvert_exporter": "python",
   "pygments_lexer": "ipython3",
   "version": "3.7.1"
  }
 },
 "nbformat": 4,
 "nbformat_minor": 2
}

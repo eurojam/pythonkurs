{
 "cells": [
  {
   "cell_type": "markdown",
   "metadata": {},
   "source": [
    "### Geopandas: Creating geometries\n",
    "Since geopandas takes advantage of Shapely geometric objects it is possible to create a Shapefile from a scratch by passing Shapely’s geometric objects into the GeoDataFrame. This is useful as it makes it easy to convert e.g. a text file that contains coordinates into a Shapefile.\n",
    "\n",
    "Let’s create an empty GeoDataFrame."
   ]
  },
  {
   "cell_type": "code",
   "execution_count": null,
   "metadata": {},
   "outputs": [],
   "source": [
    "# Import necessary modules first\n",
    "import pandas as pd\n",
    "import geopandas as gp\n",
    "from shapely.geometry import Point, Polygon\n",
    "import fiona\n",
    "\n",
    "# Create an empty geopandas GeoDataFrame\n",
    "newdata = gp.GeoDataFrame()\n",
    "newdata"
   ]
  },
  {
   "cell_type": "code",
   "execution_count": null,
   "metadata": {},
   "outputs": [],
   "source": [
    "# Create a new column called 'geometry' to the GeoDataFrame\n",
    "newdata['geometry'] = None\n",
    "\n",
    "# Let's see what's inside\n",
    "newdata"
   ]
  },
  {
   "cell_type": "markdown",
   "metadata": {},
   "source": [
    "Now we have a geometry column in our GeoDataFrame but we don’t have any data yet.\n",
    "Let’s create a Shapely Polygon repsenting the Freiburg Münsterplatz that we can insert to our GeoDataFrame:"
   ]
  },
  {
   "cell_type": "code",
   "execution_count": null,
   "metadata": {},
   "outputs": [],
   "source": [
    "# Coordinates of the Freiburger Muensterplatz in Decimal Degrees\n",
    "coordinates = [(7.8517438,47.99561876), (7.85221361,47.99613503), (7.85252338, 47.99603178), \n",
    "               (7.85264728, 47.99593369), (7.85358174, 47.99588722), (7.85355592, 47.99576848),\n",
    "               (7.85375727, 47.99566522), (7.85372113, 47.99552583), (7.85367466, 47.99543806), \n",
    "               (7.85334941, 47.9953503), (7.85328746, 47.99501472), (7.85230654, 47.99514895), \n",
    "               (7.85160441, 47.99541741), (7.8517438, 47.99561876)]\n",
    "# Create a Shapely polygon from the coordinate-tuple list\n",
    "poly = Polygon(coordinates)\n",
    "# Insert the polygon into 'geometry' -column at index 0\n",
    "newdata.loc[0, 'geometry'] = poly\n",
    "# Add a new column and insert data\n",
    "newdata.loc[0, 'Location'] = 'Muensterplatz'\n",
    "newdata"
   ]
  },
  {
   "cell_type": "markdown",
   "metadata": {},
   "source": [
    "Before exporting the data it is useful to determine the coordinate reference system (projection) for the GeoDataFrame.\n",
    "\n",
    "GeoDataFrame has a property called .crs that (more about projection on next tutorial) shows the coordinate system of the data which is empty (None) in our case since we are creating the data from the scratch:"
   ]
  },
  {
   "cell_type": "code",
   "execution_count": null,
   "metadata": {},
   "outputs": [],
   "source": [
    "print(newdata.crs)"
   ]
  },
  {
   "cell_type": "markdown",
   "metadata": {},
   "source": [
    "Let’s add a crs for our GeoDataFrame. A Python module called fiona has a nice function called from_epsg() for passing coordinate system for the GeoDataFrame. Next we will use that and determine the projection to WGS84 (epsg code: 4326):"
   ]
  },
  {
   "cell_type": "code",
   "execution_count": null,
   "metadata": {},
   "outputs": [],
   "source": [
    "# Import specific function 'from_epsg' from fiona module\n",
    "from fiona.crs import from_epsg\n",
    "\n",
    "# Set the GeoDataFrame's coordinate system to WGS84\n",
    "newdata.crs = from_epsg(4326)\n",
    "\n",
    "# Let's see how the crs definition looks like\n",
    "newdata.crs"
   ]
  },
  {
   "cell_type": "markdown",
   "metadata": {},
   "source": [
    "Finally, we can export the data using GeoDataFrames .to_file() -function. The function works similarly as numpy or pandas, but here we only need to provide the output path for the Shapefile. "
   ]
  },
  {
   "cell_type": "code",
   "execution_count": null,
   "metadata": {},
   "outputs": [],
   "source": [
    "# Determine the output path for the Shapefile\n",
    "outfp = \"data/Muensterplatz.shp\"\n",
    "\n",
    "# Write the data into that Shapefile\n",
    "newdata.to_file(outfp)"
   ]
  },
  {
   "cell_type": "markdown",
   "metadata": {},
   "source": [
    "Course materials from: https://automating-gis-processes.github.io/CSC18/index.html"
   ]
  },
  {
   "cell_type": "code",
   "execution_count": null,
   "metadata": {},
   "outputs": [],
   "source": []
  }
 ],
 "metadata": {
  "kernelspec": {
   "display_name": "Python 3",
   "language": "python",
   "name": "python3"
  },
  "language_info": {
   "codemirror_mode": {
    "name": "ipython",
    "version": 3
   },
   "file_extension": ".py",
   "mimetype": "text/x-python",
   "name": "python",
   "nbconvert_exporter": "python",
   "pygments_lexer": "ipython3",
   "version": "3.8.1"
  }
 },
 "nbformat": 4,
 "nbformat_minor": 4
}

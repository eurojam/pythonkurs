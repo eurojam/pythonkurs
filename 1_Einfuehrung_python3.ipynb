{
 "cells": [
  {
   "cell_type": "markdown",
   "metadata": {},
   "source": [
    "# Einführung in Python\n",
    "\n",
    "#### Warum Python\n",
    "- Leicht zu lernen: wenige Schlüsselworte, einfache Struktur\n",
    "- Leicht zu lesen\n",
    "- Interaktiv\n",
    "- Portabel\n",
    "- viele Bibliotheken\n",
    "- erweiterbar\n",
    "- zahlreiche Datenbankschnittstellen\n",
    "- GUI Programmierung\n",
    "- skalierbar\n",
    "- ..."
   ]
  },
  {
   "cell_type": "code",
   "execution_count": null,
   "metadata": {},
   "outputs": [],
   "source": [
    "#Python Code Beispiel\n",
    "x = 34-19              #hier steht ein Kommentar\n",
    "y = 'Hello'\n",
    "z = 3.1415\n",
    "if z == 3.1415 or y == 'Hello':\n",
    "    x = x + 1\n",
    "    x+= 1               #kurze Schreibweise der Zeile oberhalb\n",
    "    y = y + \" World\"\n",
    "print(x)\n",
    "print(y)"
   ]
  },
  {
   "cell_type": "markdown",
   "metadata": {},
   "source": [
    "#### Geschichte Python\n",
    "- Entwickelt Anfang der 1990er Jahre von Guido van Rossum am Zentrum für Mathematik in Amsterdam\n",
    "- Name geht auf die Comic-Truppe „Monty Python“ zurück\n",
    "- Erste Vollversion im Januar 1994: Python 1.0.\n",
    "- Python 2.0 erschien am 16. Oktober 2000: Garbage Collection, Unicode…\n",
    "- Python 3.0 erschien am 3. Dezember 2008\n",
    "- Python 2.7 wird parallel zu Python 3 vorerst weiter durch Updates unterstützt\n",
    "- Am 27. Juni 2018 wurde die neueste Version 3.7 veröffentlicht."
   ]
  },
  {
   "cell_type": "markdown",
   "metadata": {},
   "source": [
    "#### Dokumentationen\n",
    "- https://docs.python.org\n",
    "Tutorials (Auswahl)\n",
    "- http://www.python-kurs.eu/index.php\n",
    "- http://thepythonguru.com/\n",
    "- http://pythonprogramminglanguage.com/\n",
    "- https://python.swaroopch.com/\n",
    "- https://www.tutorialspoint.com/python/ (mit Online Konsole)\n",
    "Forums\n",
    "- https://www.python-forum.de/\n",
    "- stackoverflow.com Tags: python-2.7 / python-3.x"
   ]
  },
  {
   "cell_type": "markdown",
   "metadata": {},
   "source": [
    "#### Editoren und Entwicklungsumgebungen\n",
    "- Notepad++/Atom: Editoren mit zahlreichen Plugins für Python\n",
    "- Thonny: Einfache Entwicklungsumgebung, gut für Anfänger, Editor und Python-Shell\n",
    "- PyCharm: Professionelle IDE (Kommerziell und Community-Edition)\n",
    "- Eric Python: OS IDE in Python geschrieben, sehr umfangreich und viele Funktionen\n",
    "- Pydev und Eclipse: Sehr professionelles freies Werkzeug zur Pythonentwicklung mit vielen Funktionen\n",
    "- Spyder: Komfortable IDE mit Editor und Python-Shell (Anaconda)\n",
    "- Jupyter Notebook App: Dokumente mit Python-Code (IPython) und Dokumentation \n"
   ]
  },
  {
   "cell_type": "markdown",
   "metadata": {},
   "source": [
    "#### Besonderheiten der Sprache Python\n",
    "- Python unterscheidet zwischen Groß- und Kleinschreibung: Auto und auto sind zwei unterschiedliche Bezeichner in Python\n",
    "- Python erlaubt keine Sonderzeichen innerhalb von Bezeichnernamen wie @, $ und %.\n",
    "- In Python gibt es keine Klammerung um Blöcke, wie Funktionen oder Klassen einzuschließen. Codeblöcke werden durch - Zeileneinrückungen gekennzeichnet.\n",
    "- Die Einrückung innerhalb eines Blocks muss immer gleich sein, bevorzugt werden 4 Leerzeichen\n",
    "- Typischerweise enden in Python Ausdrücke mit eine neuen Zeile. Es ist jedoch möglich mehrzeilige Ausdrücke mit dem Backslash (\\) zu verbinden.\n",
    "- Ausdrücke innerhalb der Klammern [], {}, oder () brauchen keinen Backslash und können über mehrere Zeilen gehen\n",
    "- Python akzeptiert einfache (‘), doppelte (“) und dreifache (‘‘‘ oder “““) Anführungszeichen um Strings zu kennzeichnen\n",
    "- Das hash Zeichen(#), welches sich nicht innerhalb eines Strings befindet, startet einen Kommentar.\n"
   ]
  },
  {
   "cell_type": "code",
   "execution_count": null,
   "metadata": {},
   "outputs": [],
   "source": []
  }
 ],
 "metadata": {
  "kernelspec": {
   "display_name": "Python 3",
   "language": "python",
   "name": "python3"
  },
  "language_info": {
   "codemirror_mode": {
    "name": "ipython",
    "version": 3
   },
   "file_extension": ".py",
   "mimetype": "text/x-python",
   "name": "python",
   "nbconvert_exporter": "python",
   "pygments_lexer": "ipython3",
   "version": "3.7.1"
  }
 },
 "nbformat": 4,
 "nbformat_minor": 2
}

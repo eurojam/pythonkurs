{
 "cells": [
  {
   "cell_type": "markdown",
   "metadata": {
    "raw_mimetype": "text/markdown",
    "slideshow": {
     "slide_type": "slide"
    }
   },
   "source": [
    "# JSON"
   ]
  },
  {
   "cell_type": "markdown",
   "metadata": {},
   "source": [
    "Die JavaScript Object Notation, kurz JSON, ist ein kompaktes Datenformat in einer einfach lesbaren Textform zum Zweck des Datenaustauschs zwischen Anwendungen."
   ]
  },
  {
   "cell_type": "code",
   "execution_count": null,
   "metadata": {
    "scrolled": true
   },
   "outputs": [],
   "source": [
    "{\n",
    "    \"persons\":[\n",
    "        {\n",
    "            \"city\":\"Freiburg\",\n",
    "            \"name\":\"Stefan\"\n",
    "        },\n",
    "        {\n",
    "            \"city\":\"Bonn\",\n",
    "            \"name\":\"Thomas\"\n",
    "        }\n",
    "    ]}"
   ]
  },
  {
   "cell_type": "markdown",
   "metadata": {},
   "source": [
    " <font color=\"red\">Welche Python-Elemente erkennen Sie in der obigen JSON Notation?</font> "
   ]
  },
  {
   "cell_type": "markdown",
   "metadata": {},
   "source": [
    "JSON in Python Objekt konvertieren:"
   ]
  },
  {
   "cell_type": "code",
   "execution_count": 1,
   "metadata": {},
   "outputs": [],
   "source": [
    "import json\n",
    "\n",
    "json_data = '{\"name\": \"Brian\", \"city\": \"Seatle\"}'\n",
    "python_obj = json.loads(json_data)"
   ]
  },
  {
   "cell_type": "markdown",
   "metadata": {},
   "source": [
    " <font color=\"red\">Ergänzen Sie das Code unten so, dass die Namen ausgegeben werden.</font> "
   ]
  },
  {
   "cell_type": "code",
   "execution_count": null,
   "metadata": {},
   "outputs": [],
   "source": [
    "import json\n",
    " \n",
    "json_data = '''{\n",
    "    \"persons\":[\n",
    "        {\n",
    "            \"city\":\"Freiburg\",\n",
    "            \"name\":\"Stefan\"\n",
    "        },\n",
    "        {\n",
    "            \"city\":\"Bonn\",\n",
    "            \"name\":\"Thomas\"\n",
    "        }\n",
    "    ]}'''\n",
    "python_obj = json.loads(json_data)\n",
    "#Ergänzen Sie hier die Ausgabe\n",
    "python_obj[\"persons\"][0:1]"
   ]
  },
  {
   "cell_type": "markdown",
   "metadata": {},
   "source": [
    "Python Objekt Dict als JSON umwandeln"
   ]
  },
  {
   "cell_type": "code",
   "execution_count": null,
   "metadata": {},
   "outputs": [],
   "source": [
    "import json\n",
    " \n",
    "d = {}\n",
    "d[\"name\"] = \"Stefan\"\n",
    "d[\"city\"] = \"Freiburg\"\n",
    "\n",
    "print (json.dumps(d, ensure_ascii=False))"
   ]
  },
  {
   "cell_type": "markdown",
   "metadata": {},
   "source": [
    " <font color=\"red\">Erweitern Sie den Code so, dass das vorhergehende JSON erzeugt wird.</font> "
   ]
  },
  {
   "cell_type": "markdown",
   "metadata": {},
   "source": [
    "JSON wird vielfach auch als Ausgabeformat z.B. für Geocodierung von Adressen wie unten folgenden Beispiel mit der Nominatim-Api verwendet."
   ]
  },
  {
   "cell_type": "code",
   "execution_count": null,
   "metadata": {
    "scrolled": true
   },
   "outputs": [],
   "source": [
    "import urllib.request, json\n",
    "url = \"https://nominatim.openstreetmap.org/search/Sautierstr.%2038%2079104%20Freiburg?format=json&addressdetails=1&limit=5\"\n",
    "response = urllib.request.urlopen(url)\n",
    "data = json.loads(response.read())\n",
    "print (data)\n"
   ]
  }
 ],
 "metadata": {
  "kernelspec": {
   "display_name": "Python 3",
   "language": "python",
   "name": "python3"
  },
  "language_info": {
   "codemirror_mode": {
    "name": "ipython",
    "version": 3
   },
   "file_extension": ".py",
   "mimetype": "text/x-python",
   "name": "python",
   "nbconvert_exporter": "python",
   "pygments_lexer": "ipython3",
   "version": "3.7.9"
  }
 },
 "nbformat": 4,
 "nbformat_minor": 2
}

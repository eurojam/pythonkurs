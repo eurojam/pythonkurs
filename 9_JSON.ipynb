{
 "cells": [
  {
   "cell_type": "markdown",
   "metadata": {
    "raw_mimetype": "text/markdown",
    "slideshow": {
     "slide_type": "slide"
    }
   },
   "source": [
    "# JSON"
   ]
  },
  {
   "cell_type": "markdown",
   "metadata": {},
   "source": [
    "Die JavaScript Object Notation, kurz JSON, ist ein kompaktes Datenformat in einer einfach lesbaren Textform zum Zweck des Datenaustauschs zwischen Anwendungen."
   ]
  },
  {
   "cell_type": "code",
   "execution_count": null,
   "metadata": {
    "scrolled": true
   },
   "outputs": [],
   "source": [
    "{\n",
    "    \"persons\":[\n",
    "        {\n",
    "            \"city\":\"Freiburg\",\n",
    "            \"name\":\"Stefan\"\n",
    "        },\n",
    "        {\n",
    "            \"city\":\"Bonn\",\n",
    "            \"name\":\"Thomas\"\n",
    "        }\n",
    "    ]}"
   ]
  },
  {
   "cell_type": "markdown",
   "metadata": {},
   "source": [
    " <font color=\"red\">Welche Python-Elemente erkennen Sie in der obigen JSON Notation?</font> "
   ]
  },
  {
   "cell_type": "markdown",
   "metadata": {},
   "source": [
    "JSON in Python Objekt konvertieren:"
   ]
  },
  {
   "cell_type": "code",
   "execution_count": 1,
   "metadata": {},
   "outputs": [
    {
     "name": "stdout",
     "output_type": "stream",
     "text": [
      "Brian\n"
     ]
    }
   ],
   "source": [
    "import json\n",
    " \n",
    "json_data = '{\"name\": \"Brian\", \"city\": \"Seatle\"}'\n",
    "python_obj = json.loads(json_data)\n",
    "print (python_obj[\"name\"])"
   ]
  },
  {
   "cell_type": "markdown",
   "metadata": {},
   "source": [
    " <font color=\"red\">Ergänzen Sie das Code unten so, dass die Namen ausgegeben werden.</font> "
   ]
  },
  {
   "cell_type": "code",
   "execution_count": 8,
   "metadata": {},
   "outputs": [
    {
     "data": {
      "text/plain": [
       "'p'"
      ]
     },
     "execution_count": 8,
     "metadata": {},
     "output_type": "execute_result"
    }
   ],
   "source": [
    "s = \"heute ist python schulung in tübingen\"\n",
    "l = s.split()\n",
    "l[2][0]"
   ]
  },
  {
   "cell_type": "code",
   "execution_count": 11,
   "metadata": {},
   "outputs": [
    {
     "data": {
      "text/plain": [
       "[{'city': 'Freiburg', 'name': 'Stefan'}]"
      ]
     },
     "execution_count": 11,
     "metadata": {},
     "output_type": "execute_result"
    }
   ],
   "source": [
    "import json\n",
    " \n",
    "json_data = '''{\n",
    "    \"persons\":[\n",
    "        {\n",
    "            \"city\":\"Freiburg\",\n",
    "            \"name\":\"Stefan\"\n",
    "        },\n",
    "        {\n",
    "            \"city\":\"Bonn\",\n",
    "            \"name\":\"Thomas\"\n",
    "        }\n",
    "    ]}'''\n",
    "python_obj = json.loads(json_data)\n",
    "#Ergänzen Sie hier die Ausgabe\n",
    "python_obj[\"persons\"][0:1]"
   ]
  },
  {
   "cell_type": "markdown",
   "metadata": {},
   "source": [
    "Python Objekt Dict als JSON umwandeln"
   ]
  },
  {
   "cell_type": "code",
   "execution_count": null,
   "metadata": {},
   "outputs": [],
   "source": [
    "import json\n",
    " \n",
    "d = {}\n",
    "d[\"name\"] = \"Stefan\"\n",
    "d[\"city\"] = \"Freiburg\"\n",
    "\n",
    "print (json.dumps(d, ensure_ascii=False))"
   ]
  },
  {
   "cell_type": "markdown",
   "metadata": {},
   "source": [
    " <font color=\"red\">Erweitern Sie den Code so, dass das vorhergehende JSON erzeugt wird.</font> "
   ]
  },
  {
   "cell_type": "markdown",
   "metadata": {},
   "source": [
    "JSON wird vielfach auch als Ausgabeformat z.B. für Geocodierung von Adressen wie unten folgenden Beispiel mit der Nominatim-Api verwendet."
   ]
  },
  {
   "cell_type": "code",
   "execution_count": null,
   "metadata": {
    "scrolled": true
   },
   "outputs": [],
   "source": [
    "import urllib.request, json\n",
    "url = \"https://nominatim.openstreetmap.org/search/Sautierstr.%2038%2079104%20Freiburg?format=json&addressdetails=1&limit=5\"\n",
    "response = urllib.request.urlopen(url)\n",
    "data = json.loads(response.read())\n",
    "print (data)\n",
    "lat = data[0]['lat']\n",
    "lon = data[0]['address']['postcode']\n",
    "print (lat, lon)\n"
   ]
  },
  {
   "cell_type": "code",
   "execution_count": null,
   "metadata": {},
   "outputs": [],
   "source": [
    "#das selbe für http://xkcd.com\n",
    "#http://xkcd.com/614/info.0.json (comic #614)\n",
    "#http://xkcd.com/info.0.json (current comic)\n",
    "import urllib.request, json\n",
    "import matplotlib.pyplot as plt\n",
    "import matplotlib.image as mpimg\n",
    "\n",
    "#Ergänzen Sie den Code und stellen Sie Transscript und das Comic dar\n",
    "\n",
    "#plt.figure(figsize=(15,15))\n",
    "#img = mpimg.imread(data['img'])\n",
    "#imgplot = plt.imshow(img)\n",
    "\n",
    "\n"
   ]
  }
 ],
 "metadata": {
  "kernelspec": {
   "display_name": "Python 3",
   "language": "python",
   "name": "python3"
  },
  "language_info": {
   "codemirror_mode": {
    "name": "ipython",
    "version": 3
   },
   "file_extension": ".py",
   "mimetype": "text/x-python",
   "name": "python",
   "nbconvert_exporter": "python",
   "pygments_lexer": "ipython3",
   "version": "3.8.1"
  }
 },
 "nbformat": 4,
 "nbformat_minor": 2
}

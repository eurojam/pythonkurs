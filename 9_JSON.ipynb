{
 "cells": [
  {
   "cell_type": "markdown",
   "metadata": {
    "raw_mimetype": "text/markdown",
    "slideshow": {
     "slide_type": "slide"
    }
   },
   "source": [
    "# JSON"
   ]
  },
  {
   "cell_type": "markdown",
   "metadata": {},
   "source": [
    "Die JavaScript Object Notation, kurz JSON, ist ein kompaktes Datenformat in einer einfach lesbaren Textform zum Zweck des Datenaustauschs zwischen Anwendungen."
   ]
  },
  {
   "cell_type": "code",
   "execution_count": null,
   "metadata": {
    "scrolled": true
   },
   "outputs": [],
   "source": [
    "{\n",
    "    \"persons\":[\n",
    "        {\n",
    "            \"city\":\"Freiburg\",\n",
    "            \"name\":\"Stefan\"\n",
    "        },\n",
    "        {\n",
    "            \"city\":\"Bonn\",\n",
    "            \"name\":\"Thomas\"\n",
    "        }\n",
    "    ]}"
   ]
  },
  {
   "cell_type": "markdown",
   "metadata": {},
   "source": [
    " <font color=\"red\">Welche Python-Elemente erkennen Sie in der obigen JSON Notation?</font> "
   ]
  },
  {
   "cell_type": "markdown",
   "metadata": {},
   "source": [
    "JSON in Python Objekt konvertieren:"
   ]
  },
  {
   "cell_type": "code",
   "execution_count": null,
   "metadata": {},
   "outputs": [],
   "source": [
    "import json\n",
    " \n",
    "json_data = '{\"name\": \"Brian\", \"city\": \"Seatle\"}'\n",
    "python_obj = json.loads(json_data)\n",
    "print (python_obj[\"name\"])"
   ]
  },
  {
   "cell_type": "markdown",
   "metadata": {},
   "source": [
    " <font color=\"red\">Ergänzen Sie das Code unten so, dass die Namen ausgegeben werden.</font> "
   ]
  },
  {
   "cell_type": "code",
   "execution_count": null,
   "metadata": {},
   "outputs": [],
   "source": [
    "import json\n",
    " \n",
    "json_data = '''{\n",
    "    \"persons\":[\n",
    "        {\n",
    "            \"city\":\"Freiburg\",\n",
    "            \"name\":\"Stefan\"\n",
    "        },\n",
    "        {\n",
    "            \"city\":\"Bonn\",\n",
    "            \"name\":\"Thomas\"\n",
    "        }\n",
    "    ]}'''\n",
    "python_obj = json.loads(json_data)\n",
    "#Ergänzen Sie hier die Ausgabe\n"
   ]
  },
  {
   "cell_type": "markdown",
   "metadata": {},
   "source": [
    "Python Objekt Dict als JSON umwandeln"
   ]
  },
  {
   "cell_type": "code",
   "execution_count": null,
   "metadata": {},
   "outputs": [],
   "source": [
    "import json\n",
    " \n",
    "d = {}\n",
    "d[\"name\"] = \"Stefan\"\n",
    "d[\"city\"] = \"Freiburg\"\n",
    "\n",
    "print (json.dumps(d, ensure_ascii=False))"
   ]
  },
  {
   "cell_type": "markdown",
   "metadata": {},
   "source": [
    " <font color=\"red\">Erweitern Sie den Code so, dass das vorhergehende JSON erzeugt wird.</font> "
   ]
  },
  {
   "cell_type": "markdown",
   "metadata": {},
   "source": [
    "JSON wird vielfach auch als Ausgabeformat z.B. für Geocodierung von Adressen wie unten folgenden Beispiel mit der Nominatim-Api verwendet."
   ]
  },
  {
   "cell_type": "code",
   "execution_count": null,
   "metadata": {},
   "outputs": [],
   "source": [
    "import urllib.request, json\n",
    "url = \"https://nominatim.openstreetmap.org/search/Uni%20T%C3%BCbingen?format=json&addressdetails=1&limit=5\"\n",
    "response = urllib.request.urlopen(url)\n",
    "data = json.loads(response.read())\n",
    "print (data)"
   ]
  },
  {
   "cell_type": "markdown",
   "metadata": {},
   "source": [
    " <font color=\"red\">Erweitern Sie das Beispiel so, dass  \n",
    "- der Benutzer eine Eingabe machen kann, z.B. Stadtverwaltung Kaiserslautern  \n",
    "- die Adresse etwa so ausgegeben wird: Adresse , LAT, LON  \n",
    "- Fehler mit try und except abgefangen werden </font> "
   ]
  },
  {
   "cell_type": "markdown",
   "metadata": {},
   "source": [
    "<font color=\"red\">Schreiben Sie ein Programm, dass aus behoerden.txt in behoerden_geo.txt erzeugt (Behörde, Ardesse, lat, lon)</font> "
   ]
  }
 ],
 "metadata": {
  "kernelspec": {
   "display_name": "Python 3",
   "language": "python",
   "name": "python3"
  },
  "language_info": {
   "codemirror_mode": {
    "name": "ipython",
    "version": 3
   },
   "file_extension": ".py",
   "mimetype": "text/x-python",
   "name": "python",
   "nbconvert_exporter": "python",
   "pygments_lexer": "ipython3",
   "version": "3.7.1"
  }
 },
 "nbformat": 4,
 "nbformat_minor": 2
}

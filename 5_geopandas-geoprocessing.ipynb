{
 "cells": [
  {
   "cell_type": "markdown",
   "metadata": {},
   "source": [
    "### Geopandas: Geoprocessing\n",
    "see also: https://geopandas.readthedocs.io/en/stable/  \n",
    "also some geoprocessing can easily done with geopandas"
   ]
  },
  {
   "cell_type": "code",
   "execution_count": null,
   "metadata": {},
   "outputs": [],
   "source": [
    "import pandas as pd\n",
    "import geopandas as gpd\n",
    "from shapely.geometry import Point, LineString, Polygon"
   ]
  },
  {
   "cell_type": "code",
   "execution_count": null,
   "metadata": {},
   "outputs": [],
   "source": [
    "# make two points\n",
    "p1 = Point((1,2))\n",
    "p2 = Point((5,6))\n",
    "df = pd.DataFrame({'a': ['p1','p2']})\n",
    "gdf = gpd.GeoDataFrame(df, geometry = [p1,p2])\n",
    "print(gdf)\n",
    "gdf.plot()"
   ]
  },
  {
   "cell_type": "markdown",
   "metadata": {},
   "source": [
    "Assign the buffer as a new geometry column to the GeoDataFrame"
   ]
  },
  {
   "cell_type": "code",
   "execution_count": null,
   "metadata": {},
   "outputs": [],
   "source": [
    "gdf['geometry'] = gdf.geometry.buffer(1.5)\n",
    "gdf"
   ]
  },
  {
   "cell_type": "markdown",
   "metadata": {},
   "source": [
    "Plot the data:"
   ]
  },
  {
   "cell_type": "code",
   "execution_count": null,
   "metadata": {},
   "outputs": [],
   "source": [
    "gdf.plot()"
   ]
  },
  {
   "cell_type": "markdown",
   "metadata": {},
   "source": [
    "Doing some more complex manipulation:"
   ]
  },
  {
   "cell_type": "code",
   "execution_count": null,
   "metadata": {
    "scrolled": true
   },
   "outputs": [],
   "source": [
    "#GeoPandas includes Boundaries of Boroughs as an example dataset\n",
    "nybb_path = gpd.datasets.get_path('nybb')\n",
    "boros = gpd.read_file(nybb_path)\n",
    "boros.set_index('BoroCode', inplace=True)\n",
    "boros.sort_index(inplace=True)\n",
    "print (boros)\n",
    "boros.plot(column='BoroName')"
   ]
  },
  {
   "cell_type": "code",
   "execution_count": null,
   "metadata": {},
   "outputs": [],
   "source": [
    "boros['geometry'] = boros['geometry'].convex_hull\n",
    "boros.plot(column='BoroName')"
   ]
  },
  {
   "cell_type": "code",
   "execution_count": null,
   "metadata": {},
   "outputs": [],
   "source": [
    "#making some random points\n",
    "import numpy as np\n",
    "from shapely.geometry import Point\n",
    "xmin, xmax, ymin, ymax = 900000, 1080000, 120000, 280000\n",
    "xc = (xmax - xmin) * np.random.random(2000) + xmin\n",
    "yc = (ymax - ymin) * np.random.random(2000) + ymin\n",
    "#zipping x and y to points\n",
    "pts = gpd.GeoSeries([Point(x, y) for x, y in zip(xc, yc)])\n",
    "print(pts)\n",
    "pts.plot()"
   ]
  },
  {
   "cell_type": "code",
   "execution_count": null,
   "metadata": {},
   "outputs": [],
   "source": [
    "#buffer the points\n",
    "circles = pts.buffer(2000)\n",
    "#make a single multipolygon\n",
    "mp = circles.unary_union\n",
    "#intersect with boros\n",
    "holes = boros['geometry'].intersection(mp)\n",
    "#get the area outside of the holes\n",
    "boros_with_holes = boros['geometry'].difference(mp)\n",
    "boros_with_holes.plot()"
   ]
  },
  {
   "cell_type": "markdown",
   "metadata": {},
   "source": [
    "Further geometric manipulations: https://geopandas.readthedocs.io/en/stable/geometric_manipulations.html"
   ]
  }
 ],
 "metadata": {
  "kernelspec": {
   "display_name": "Python 3",
   "language": "python",
   "name": "python3"
  },
  "language_info": {
   "codemirror_mode": {
    "name": "ipython",
    "version": 3
   },
   "file_extension": ".py",
   "mimetype": "text/x-python",
   "name": "python",
   "nbconvert_exporter": "python",
   "pygments_lexer": "ipython3",
   "version": "3.7.6"
  }
 },
 "nbformat": 4,
 "nbformat_minor": 4
}

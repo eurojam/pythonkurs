{
 "cells": [
  {
   "cell_type": "markdown",
   "metadata": {
    "raw_mimetype": "text/markdown",
    "slideshow": {
     "slide_type": "slide"
    }
   },
   "source": [
    "# Datenstrukturen: Dictionary"
   ]
  },
  {
   "cell_type": "markdown",
   "metadata": {},
   "source": [
    "Die zusammengesetzten Datentypen, die wir bisher behandelt haben **Strings, Listen, Mengen und Tupel** verwenden Ganzzahlen als Indizes. Der Datentyp Dictionary (deutscher Begriff: assoziative Liste) ist den anderen zusammengesetzten Datentypen ähnlich. Ein Unterschied besteht darin, dass man beliebige unveränderbare Datentypen für die Indizes verwenden kann. Als Beispiel werden wir ein Dictionary erzeugen um ein Telefonbuch abzubilden."
   ]
  },
  {
   "cell_type": "code",
   "execution_count": null,
   "metadata": {},
   "outputs": [],
   "source": [
    "# -*- coding: utf-8 -*-\n",
    "telefon = {'Hans': 4098, 'Michael': 4139}\n",
    "telefon['Guido'] = 4127\n",
    "print (telefon['Hans'])\n",
    "del telefon['Michael']\n",
    "telefon['Guido'] = 4199\n",
    "print (telefon)\n",
    "print (list(telefon.keys()))\n",
    "print (sorted(telefon.keys()))\n",
    "print ('Guido' in telefon)\n",
    "print ('Hans' not in telefon)"
   ]
  },
  {
   "cell_type": "code",
   "execution_count": null,
   "metadata": {
    "scrolled": true
   },
   "outputs": [],
   "source": [
    "#Was passiert hier wohl? \n",
    "telefon['Stefan']"
   ]
  },
  {
   "cell_type": "code",
   "execution_count": null,
   "metadata": {},
   "outputs": [],
   "source": [
    "#Zur Vermeidung dieses Fehlers kann get() verwendet werden:'\n",
    "telefon.get('Stefan', 'kein Eintrag vorhanden')"
   ]
  },
  {
   "cell_type": "markdown",
   "metadata": {},
   "source": [
    "Im folgenden sehen Sie weitere Möglichkeiten ein Dictionary zu erstellen:"
   ]
  },
  {
   "cell_type": "code",
   "execution_count": null,
   "metadata": {},
   "outputs": [],
   "source": [
    "#Erstellen mit dict-Konstruktor und Schlüssel-Wert-Paaren\n",
    "telefon = dict([('Hans', 4139), ('Guido', 4127), ('Michael', 4098)])\n",
    "print (telefon)"
   ]
  },
  {
   "cell_type": "code",
   "execution_count": null,
   "metadata": {},
   "outputs": [],
   "source": [
    "# Definition über Dict Comprehensions\n",
    "d = {chr(x): x**2 for x in (97, 98, 99)}\n",
    "print (d)"
   ]
  },
  {
   "cell_type": "code",
   "execution_count": null,
   "metadata": {},
   "outputs": [],
   "source": [
    "# Definition als Schlüsselwort-Argumente\n",
    "telefon = dict(Hans=4098, Michael=4139)\n",
    "print (telefon)"
   ]
  },
  {
   "cell_type": "markdown",
   "metadata": {},
   "source": [
    "<font color=\"red\">Erstellen Sie ein Programm, das ein Dictionary erzeugt, das bis zu einer vorgegeben Zahl n die Quadrate zu n enthält.</font>"
   ]
  },
  {
   "cell_type": "code",
   "execution_count": null,
   "metadata": {},
   "outputs": [],
   "source": [
    "n=int(input('Enter an integer:'))\n",
    "# Ergänzen Sie das Programm wie oben gefordert."
   ]
  },
  {
   "cell_type": "markdown",
   "metadata": {},
   "source": [
    "<font color=\"red\">Weitere Methoden für Dictionaries: Erklären Sie das unten stehede Beispiel, was ist dictionaries für ein Datentyp und was ist der Datentyp der Elemente?</font>"
   ]
  },
  {
   "cell_type": "code",
   "execution_count": null,
   "metadata": {},
   "outputs": [],
   "source": [
    "en_de = {\"red\" : \"rot\", \"green\" : \"grün\", \"blue\" : \"blau\", \"yellow\":\"gelb\"}\n",
    "de_fr = {\"rot\" : \"rouge\", \"grün\" : \"vert\", \"blau\" : \"bleu\", \"gelb\":\"jaune\"}\n",
    "dictionaries = {\"en_de\" : en_de, \"de_fr\" : de_fr }\n",
    "print(dictionaries[\"de_fr\"][\"blau\"])"
   ]
  },
  {
   "cell_type": "markdown",
   "metadata": {},
   "source": [
    "<font color=\"red\">Was wird im unten folgenden Code passieren? Entfernen Sie die Kommentare und testen Sie die beiden Statements. Suchen Sie die Hilfe für **get** heraus.</font>"
   ]
  },
  {
   "cell_type": "code",
   "execution_count": null,
   "metadata": {},
   "outputs": [],
   "source": [
    "#print(dictionaries[\"de_fr\"][\"schwarz\"])\n",
    "#und hier?\n",
    "#print(dictionaries[\"de_fr\"].get(\"schwarz\", \"kenne ich nich...\")) "
   ]
  },
  {
   "cell_type": "code",
   "execution_count": null,
   "metadata": {},
   "outputs": [],
   "source": [
    "#pop in Verbindung mit dictionaries\n",
    "capitals = {\"Österreich\":\"Wien\", \"Deutschland\":\"Berlin\", \"Niederlande\":\"Amsterdam\"}\n",
    "print (capitals.pop(\"Deutschland\")) #Gibt das Objekt zurück und entfernt es aus dem Dict\n",
    "print (capitals.pop(\"Schweiz\",\"unbekannt\")) #Gibt das Objekt zurück oder den defaultwert\n",
    "#Verbinden von zwei dictionaries mit der Methode update()\n",
    "w1 = {\"house\":\"Haus\",\"cat\":\"Katze\",\"red\":\"rot\"}\n",
    "w2 = {\"red\":\"rouge\",\"blau\":\"bleu\"}\n",
    "w1.update(w2)\n",
    "print(w1)"
   ]
  },
  {
   "cell_type": "markdown",
   "metadata": {},
   "source": [
    "Listen in dictionaries wandeln: der Befehl **zip**"
   ]
  },
  {
   "cell_type": "code",
   "execution_count": null,
   "metadata": {},
   "outputs": [],
   "source": [
    "gerichte = [\"Pizza\", \"Sauerkraut\", \"Paella\", \"Hamburger\"]\n",
    "laender = [\"Italien\",\"Deutschland\",\"Spanien\",\"USA\"]\n",
    "land_gericht = list(zip(laender,gerichte))\n",
    "land_gericht_dict = dict(land_gericht)\n",
    "print(land_gericht_dict)"
   ]
  },
  {
   "cell_type": "markdown",
   "metadata": {},
   "source": [
    "<font color=\"red\">Erstellen Sie ein Programm, das das häufigste Wort länger als 5 Buchstaben in Dr. Ötkers Kochkunst (dr_oetker_kochkunst.txt) oder Goethes Faust erster Teil (faust1.txt) bestimmt (mögliche Lösung ist haeufige_woerter.py).</font>"
   ]
  },
  {
   "cell_type": "code",
   "execution_count": null,
   "metadata": {},
   "outputs": [],
   "source": [
    "# Einlesen von Textdatei:\n",
    "f = open('data/dr_oetker_kochkunst.txt')\n",
    "text = f.read()\n",
    "# Alles in Kleinbuchstaben umwandeln, da dies ja dasselbe Wort bleibt...\n",
    "# ...ergänzen Sie den Code"
   ]
  }
 ],
 "metadata": {
  "kernelspec": {
   "display_name": "Python 3",
   "language": "python",
   "name": "python3"
  },
  "language_info": {
   "codemirror_mode": {
    "name": "ipython",
    "version": 3
   },
   "file_extension": ".py",
   "mimetype": "text/x-python",
   "name": "python",
   "nbconvert_exporter": "python",
   "pygments_lexer": "ipython3",
   "version": "3.7.1"
  }
 },
 "nbformat": 4,
 "nbformat_minor": 2
}
